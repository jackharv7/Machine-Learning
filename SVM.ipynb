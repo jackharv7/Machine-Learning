{
 "cells": [
  {
   "cell_type": "code",
   "execution_count": 14,
   "metadata": {},
   "outputs": [],
   "source": [
    "import pandas as pd"
   ]
  },
  {
   "cell_type": "code",
   "execution_count": 15,
   "metadata": {},
   "outputs": [
    {
     "output_type": "execute_result",
     "data": {
      "text/plain": "  koi_disposition  koi_fpflag_nt  koi_fpflag_ss  koi_fpflag_co  koi_fpflag_ec  \\\n0       CONFIRMED              0              0              0              0   \n1       CONFIRMED              0              0              0              0   \n2  FALSE POSITIVE              0              1              0              0   \n3  FALSE POSITIVE              0              1              0              0   \n4       CONFIRMED              0              0              0              0   \n\n   koi_period  koi_period_err1  koi_period_err2  koi_time0bk  \\\n0    9.488036     2.775000e-05    -2.775000e-05   170.538750   \n1   54.418383     2.479000e-04    -2.479000e-04   162.513840   \n2   19.899140     1.494000e-05    -1.494000e-05   175.850252   \n3    1.736952     2.630000e-07    -2.630000e-07   170.307565   \n4    2.525592     3.761000e-06    -3.761000e-06   171.595550   \n\n   koi_time0bk_err1  ...  koi_steff_err2  koi_slogg  koi_slogg_err1  \\\n0          0.002160  ...           -81.0      4.467           0.064   \n1          0.003520  ...           -81.0      4.467           0.064   \n2          0.000581  ...          -176.0      4.544           0.044   \n3          0.000115  ...          -174.0      4.564           0.053   \n4          0.001130  ...          -211.0      4.438           0.070   \n\n   koi_slogg_err2  koi_srad  koi_srad_err1  koi_srad_err2         ra  \\\n0          -0.096     0.927          0.105         -0.061  291.93423   \n1          -0.096     0.927          0.105         -0.061  291.93423   \n2          -0.176     0.868          0.233         -0.078  297.00482   \n3          -0.168     0.791          0.201         -0.067  285.53461   \n4          -0.210     1.046          0.334         -0.133  288.75488   \n\n         dec  koi_kepmag  \n0  48.141651      15.347  \n1  48.141651      15.347  \n2  48.134129      15.436  \n3  48.285210      15.597  \n4  48.226200      15.509  \n\n[5 rows x 41 columns]",
      "text/html": "<div>\n<style scoped>\n    .dataframe tbody tr th:only-of-type {\n        vertical-align: middle;\n    }\n\n    .dataframe tbody tr th {\n        vertical-align: top;\n    }\n\n    .dataframe thead th {\n        text-align: right;\n    }\n</style>\n<table border=\"1\" class=\"dataframe\">\n  <thead>\n    <tr style=\"text-align: right;\">\n      <th></th>\n      <th>koi_disposition</th>\n      <th>koi_fpflag_nt</th>\n      <th>koi_fpflag_ss</th>\n      <th>koi_fpflag_co</th>\n      <th>koi_fpflag_ec</th>\n      <th>koi_period</th>\n      <th>koi_period_err1</th>\n      <th>koi_period_err2</th>\n      <th>koi_time0bk</th>\n      <th>koi_time0bk_err1</th>\n      <th>...</th>\n      <th>koi_steff_err2</th>\n      <th>koi_slogg</th>\n      <th>koi_slogg_err1</th>\n      <th>koi_slogg_err2</th>\n      <th>koi_srad</th>\n      <th>koi_srad_err1</th>\n      <th>koi_srad_err2</th>\n      <th>ra</th>\n      <th>dec</th>\n      <th>koi_kepmag</th>\n    </tr>\n  </thead>\n  <tbody>\n    <tr>\n      <th>0</th>\n      <td>CONFIRMED</td>\n      <td>0</td>\n      <td>0</td>\n      <td>0</td>\n      <td>0</td>\n      <td>9.488036</td>\n      <td>2.775000e-05</td>\n      <td>-2.775000e-05</td>\n      <td>170.538750</td>\n      <td>0.002160</td>\n      <td>...</td>\n      <td>-81.0</td>\n      <td>4.467</td>\n      <td>0.064</td>\n      <td>-0.096</td>\n      <td>0.927</td>\n      <td>0.105</td>\n      <td>-0.061</td>\n      <td>291.93423</td>\n      <td>48.141651</td>\n      <td>15.347</td>\n    </tr>\n    <tr>\n      <th>1</th>\n      <td>CONFIRMED</td>\n      <td>0</td>\n      <td>0</td>\n      <td>0</td>\n      <td>0</td>\n      <td>54.418383</td>\n      <td>2.479000e-04</td>\n      <td>-2.479000e-04</td>\n      <td>162.513840</td>\n      <td>0.003520</td>\n      <td>...</td>\n      <td>-81.0</td>\n      <td>4.467</td>\n      <td>0.064</td>\n      <td>-0.096</td>\n      <td>0.927</td>\n      <td>0.105</td>\n      <td>-0.061</td>\n      <td>291.93423</td>\n      <td>48.141651</td>\n      <td>15.347</td>\n    </tr>\n    <tr>\n      <th>2</th>\n      <td>FALSE POSITIVE</td>\n      <td>0</td>\n      <td>1</td>\n      <td>0</td>\n      <td>0</td>\n      <td>19.899140</td>\n      <td>1.494000e-05</td>\n      <td>-1.494000e-05</td>\n      <td>175.850252</td>\n      <td>0.000581</td>\n      <td>...</td>\n      <td>-176.0</td>\n      <td>4.544</td>\n      <td>0.044</td>\n      <td>-0.176</td>\n      <td>0.868</td>\n      <td>0.233</td>\n      <td>-0.078</td>\n      <td>297.00482</td>\n      <td>48.134129</td>\n      <td>15.436</td>\n    </tr>\n    <tr>\n      <th>3</th>\n      <td>FALSE POSITIVE</td>\n      <td>0</td>\n      <td>1</td>\n      <td>0</td>\n      <td>0</td>\n      <td>1.736952</td>\n      <td>2.630000e-07</td>\n      <td>-2.630000e-07</td>\n      <td>170.307565</td>\n      <td>0.000115</td>\n      <td>...</td>\n      <td>-174.0</td>\n      <td>4.564</td>\n      <td>0.053</td>\n      <td>-0.168</td>\n      <td>0.791</td>\n      <td>0.201</td>\n      <td>-0.067</td>\n      <td>285.53461</td>\n      <td>48.285210</td>\n      <td>15.597</td>\n    </tr>\n    <tr>\n      <th>4</th>\n      <td>CONFIRMED</td>\n      <td>0</td>\n      <td>0</td>\n      <td>0</td>\n      <td>0</td>\n      <td>2.525592</td>\n      <td>3.761000e-06</td>\n      <td>-3.761000e-06</td>\n      <td>171.595550</td>\n      <td>0.001130</td>\n      <td>...</td>\n      <td>-211.0</td>\n      <td>4.438</td>\n      <td>0.070</td>\n      <td>-0.210</td>\n      <td>1.046</td>\n      <td>0.334</td>\n      <td>-0.133</td>\n      <td>288.75488</td>\n      <td>48.226200</td>\n      <td>15.509</td>\n    </tr>\n  </tbody>\n</table>\n<p>5 rows × 41 columns</p>\n</div>"
     },
     "metadata": {},
     "execution_count": 15
    }
   ],
   "source": [
    "df = pd.read_csv(\"cumulative.csv\")\n",
    "df = df.drop(columns=['rowid', 'kepid', 'kepoi_name', 'koi_pdisposition', 'koi_score', 'koi_tce_delivname', 'kepler_name'])\n",
    "# Drop the null columns where all values are null\n",
    "df = df.dropna(axis='columns', how='all')\n",
    "# Drop the null rows\n",
    "df = df.dropna()\n",
    "df.head()"
   ]
  },
  {
   "cell_type": "code",
   "execution_count": 16,
   "metadata": {},
   "outputs": [],
   "source": [
    "from sklearn.model_selection import train_test_split\n",
    "\n",
    "y = df[\"koi_disposition\"]\n",
    "X = df.drop(columns=['koi_disposition'])\n",
    "X_train, X_test, y_train, y_test = train_test_split(X,y, random_state = 1, stratify=y)"
   ]
  },
  {
   "cell_type": "code",
   "execution_count": 17,
   "metadata": {},
   "outputs": [
    {
     "output_type": "execute_result",
     "data": {
      "text/plain": "      koi_fpflag_nt  koi_fpflag_ss  koi_fpflag_co  koi_fpflag_ec  koi_period  \\\n5964              1              0              0              0  252.044440   \n9410              1              0              0              0  371.518520   \n4204              0              0              1              0    8.038670   \n5933              0              0              0              0   18.782160   \n6996              1              0              1              0   12.429716   \n\n      koi_period_err1  koi_period_err2  koi_time0bk  koi_time0bk_err1  \\\n5964         0.027490        -0.027490     265.2010            0.0494   \n9410         0.015790        -0.015790     317.6836            0.0339   \n4204         0.000114        -0.000114     135.3098            0.0123   \n5933         0.000406        -0.000406     147.8508            0.0148   \n6996         0.000472        -0.000472     141.2846            0.0420   \n\n      koi_time0bk_err2  ...  koi_steff_err2  koi_slogg  koi_slogg_err1  \\\n5964           -0.0494  ...          -136.0      4.621           0.041   \n9410           -0.0339  ...          -206.0      4.377           0.101   \n4204           -0.0123  ...          -181.0      4.485           0.050   \n5933           -0.0148  ...          -167.0      4.488           0.048   \n6996           -0.0420  ...          -200.0      4.534           0.037   \n\n      koi_slogg_err2  koi_srad  koi_srad_err1  koi_srad_err2         ra  \\\n5964          -0.035     0.664          0.057         -0.059  292.79022   \n9410          -0.203     1.089          0.364         -0.145  293.06400   \n4204          -0.200     0.975          0.282         -0.101  290.51785   \n5933          -0.290     0.940          0.386         -0.087  291.76413   \n6996          -0.213     0.905          0.281         -0.088  297.52072   \n\n            dec  koi_kepmag  \n5964  41.948639      15.884  \n9410  45.034210      13.731  \n4204  41.238762      14.999  \n5933  41.860130      14.043  \n6996  40.585419      15.842  \n\n[5 rows x 40 columns]",
      "text/html": "<div>\n<style scoped>\n    .dataframe tbody tr th:only-of-type {\n        vertical-align: middle;\n    }\n\n    .dataframe tbody tr th {\n        vertical-align: top;\n    }\n\n    .dataframe thead th {\n        text-align: right;\n    }\n</style>\n<table border=\"1\" class=\"dataframe\">\n  <thead>\n    <tr style=\"text-align: right;\">\n      <th></th>\n      <th>koi_fpflag_nt</th>\n      <th>koi_fpflag_ss</th>\n      <th>koi_fpflag_co</th>\n      <th>koi_fpflag_ec</th>\n      <th>koi_period</th>\n      <th>koi_period_err1</th>\n      <th>koi_period_err2</th>\n      <th>koi_time0bk</th>\n      <th>koi_time0bk_err1</th>\n      <th>koi_time0bk_err2</th>\n      <th>...</th>\n      <th>koi_steff_err2</th>\n      <th>koi_slogg</th>\n      <th>koi_slogg_err1</th>\n      <th>koi_slogg_err2</th>\n      <th>koi_srad</th>\n      <th>koi_srad_err1</th>\n      <th>koi_srad_err2</th>\n      <th>ra</th>\n      <th>dec</th>\n      <th>koi_kepmag</th>\n    </tr>\n  </thead>\n  <tbody>\n    <tr>\n      <th>5964</th>\n      <td>1</td>\n      <td>0</td>\n      <td>0</td>\n      <td>0</td>\n      <td>252.044440</td>\n      <td>0.027490</td>\n      <td>-0.027490</td>\n      <td>265.2010</td>\n      <td>0.0494</td>\n      <td>-0.0494</td>\n      <td>...</td>\n      <td>-136.0</td>\n      <td>4.621</td>\n      <td>0.041</td>\n      <td>-0.035</td>\n      <td>0.664</td>\n      <td>0.057</td>\n      <td>-0.059</td>\n      <td>292.79022</td>\n      <td>41.948639</td>\n      <td>15.884</td>\n    </tr>\n    <tr>\n      <th>9410</th>\n      <td>1</td>\n      <td>0</td>\n      <td>0</td>\n      <td>0</td>\n      <td>371.518520</td>\n      <td>0.015790</td>\n      <td>-0.015790</td>\n      <td>317.6836</td>\n      <td>0.0339</td>\n      <td>-0.0339</td>\n      <td>...</td>\n      <td>-206.0</td>\n      <td>4.377</td>\n      <td>0.101</td>\n      <td>-0.203</td>\n      <td>1.089</td>\n      <td>0.364</td>\n      <td>-0.145</td>\n      <td>293.06400</td>\n      <td>45.034210</td>\n      <td>13.731</td>\n    </tr>\n    <tr>\n      <th>4204</th>\n      <td>0</td>\n      <td>0</td>\n      <td>1</td>\n      <td>0</td>\n      <td>8.038670</td>\n      <td>0.000114</td>\n      <td>-0.000114</td>\n      <td>135.3098</td>\n      <td>0.0123</td>\n      <td>-0.0123</td>\n      <td>...</td>\n      <td>-181.0</td>\n      <td>4.485</td>\n      <td>0.050</td>\n      <td>-0.200</td>\n      <td>0.975</td>\n      <td>0.282</td>\n      <td>-0.101</td>\n      <td>290.51785</td>\n      <td>41.238762</td>\n      <td>14.999</td>\n    </tr>\n    <tr>\n      <th>5933</th>\n      <td>0</td>\n      <td>0</td>\n      <td>0</td>\n      <td>0</td>\n      <td>18.782160</td>\n      <td>0.000406</td>\n      <td>-0.000406</td>\n      <td>147.8508</td>\n      <td>0.0148</td>\n      <td>-0.0148</td>\n      <td>...</td>\n      <td>-167.0</td>\n      <td>4.488</td>\n      <td>0.048</td>\n      <td>-0.290</td>\n      <td>0.940</td>\n      <td>0.386</td>\n      <td>-0.087</td>\n      <td>291.76413</td>\n      <td>41.860130</td>\n      <td>14.043</td>\n    </tr>\n    <tr>\n      <th>6996</th>\n      <td>1</td>\n      <td>0</td>\n      <td>1</td>\n      <td>0</td>\n      <td>12.429716</td>\n      <td>0.000472</td>\n      <td>-0.000472</td>\n      <td>141.2846</td>\n      <td>0.0420</td>\n      <td>-0.0420</td>\n      <td>...</td>\n      <td>-200.0</td>\n      <td>4.534</td>\n      <td>0.037</td>\n      <td>-0.213</td>\n      <td>0.905</td>\n      <td>0.281</td>\n      <td>-0.088</td>\n      <td>297.52072</td>\n      <td>40.585419</td>\n      <td>15.842</td>\n    </tr>\n  </tbody>\n</table>\n<p>5 rows × 40 columns</p>\n</div>"
     },
     "metadata": {},
     "execution_count": 17
    }
   ],
   "source": [
    "X_train.head()"
   ]
  },
  {
   "cell_type": "code",
   "execution_count": 18,
   "metadata": {},
   "outputs": [],
   "source": [
    "from sklearn.preprocessing import MinMaxScaler\n",
    "X_scaler = MinMaxScaler().fit(X_train)\n",
    "X_train_scaled = X_scaler.transform(X_train)\n",
    "X_test_scaled = X_scaler.transform(X_test)"
   ]
  },
  {
   "cell_type": "code",
   "execution_count": 19,
   "metadata": {},
   "outputs": [
    {
     "output_type": "execute_result",
     "data": {
      "text/plain": "SVC(C=1.0, break_ties=False, cache_size=200, class_weight=None, coef0=0.0,\n    decision_function_shape='ovr', degree=3, gamma='scale', kernel='linear',\n    max_iter=-1, probability=False, random_state=None, shrinking=True,\n    tol=0.001, verbose=False)"
     },
     "metadata": {},
     "execution_count": 19
    }
   ],
   "source": [
    "from sklearn.svm import SVC\n",
    "model1 = SVC(kernel='linear')\n",
    "model1.fit(X_train_scaled, y_train)"
   ]
  },
  {
   "cell_type": "code",
   "execution_count": 30,
   "metadata": {},
   "outputs": [
    {
     "output_type": "stream",
     "name": "stdout",
     "text": "Test Acc: 0.846295\n"
    }
   ],
   "source": [
    "print(\"Test Acc: %3f\" % model1.score(X_test_scaled, y_test))"
   ]
  },
  {
   "cell_type": "code",
   "execution_count": 20,
   "metadata": {},
   "outputs": [
    {
     "output_type": "stream",
     "name": "stdout",
     "text": "Training Data Score: 0.8479719426654467\nTesting Data Score: 0.8462946020128088\n"
    }
   ],
   "source": [
    "print(f\"Training Data Score: {model1.score(X_train_scaled, y_train)}\")\n",
    "print(f\"Testing Data Score: {model1.score(X_test_scaled, y_test)}\")"
   ]
  },
  {
   "cell_type": "code",
   "execution_count": 21,
   "metadata": {},
   "outputs": [],
   "source": [
    "from sklearn.model_selection import GridSearchCV\n",
    "param_grid = {'C': [1,5,10], 'gamma':[0.0001, 0.001, 0.01]}\n",
    "grid1 = GridSearchCV(model1, param_grid)"
   ]
  },
  {
   "cell_type": "code",
   "execution_count": 49,
   "metadata": {},
   "outputs": [
    {
     "output_type": "execute_result",
     "data": {
      "text/plain": "GridSearchCV(cv=None, error_score=nan,\n             estimator=SVC(C=1.0, break_ties=False, cache_size=200,\n                           class_weight=None, coef0=0.0,\n                           decision_function_shape='ovr', degree=3,\n                           gamma='scale', kernel='linear', max_iter=-1,\n                           probability=False, random_state=None, shrinking=True,\n                           tol=0.001, verbose=False),\n             iid='deprecated', n_jobs=None,\n             param_grid={'C': [1, 5, 10], 'gamma': [0.0001, 0.001, 0.01]},\n             pre_dispatch='2*n_jobs', refit=True, return_train_score=False,\n             scoring=None, verbose=0)"
     },
     "metadata": {},
     "execution_count": 49
    }
   ],
   "source": [
    "grid1.fit(X_train_scaled, y_train)\n"
   ]
  },
  {
   "cell_type": "code",
   "execution_count": 35,
   "metadata": {},
   "outputs": [
    {
     "output_type": "stream",
     "name": "stdout",
     "text": "Test Acc: 0.875572\n"
    }
   ],
   "source": [
    "print(\"Test Acc: %3f\" % grid1.score(X_test_scaled, y_test))"
   ]
  },
  {
   "cell_type": "code",
   "execution_count": 50,
   "metadata": {},
   "outputs": [
    {
     "output_type": "stream",
     "name": "stdout",
     "text": "{'C': 10, 'gamma': 0.0001}\n0.8708443796394485\n"
    }
   ],
   "source": [
    "print(grid1.best_params_)\n",
    "print(grid1.best_score_)"
   ]
  },
  {
   "cell_type": "code",
   "execution_count": 51,
   "metadata": {},
   "outputs": [
    {
     "output_type": "execute_result",
     "data": {
      "text/plain": "['svc.sav']"
     },
     "metadata": {},
     "execution_count": 51
    }
   ],
   "source": [
    "import joblib\n",
    "filename = 'svc.sav'\n",
    "joblib.dump(model1, filename)"
   ]
  },
  {
   "cell_type": "code",
   "execution_count": null,
   "metadata": {},
   "outputs": [],
   "source": []
  },
  {
   "cell_type": "code",
   "execution_count": 56,
   "metadata": {},
   "outputs": [
    {
     "output_type": "stream",
     "name": "stdout",
     "text": "7217    FALSE POSITIVE\n873          CANDIDATE\n189          CONFIRMED\n6744         CANDIDATE\n9220         CANDIDATE\n2554    FALSE POSITIVE\n8706    FALSE POSITIVE\n2734    FALSE POSITIVE\n5685    FALSE POSITIVE\n8878    FALSE POSITIVE\nName: koi_disposition, dtype: object\n"
    }
   ],
   "source": [
    "predictions = grid1.predict(X_test_scaled)\n",
    "# predictions[:10]\n",
    "print(y_test[:10])"
   ]
  },
  {
   "cell_type": "code",
   "execution_count": 60,
   "metadata": {},
   "outputs": [
    {
     "output_type": "stream",
     "name": "stdout",
     "text": "precision    recall  f1-score   support\n\n     candidate       0.83      0.64      0.73       528\n     confirmed       0.73      0.86      0.79       568\nfalse positive       0.98      1.00      0.99      1090\n\n      accuracy                           0.88      2186\n     macro avg       0.85      0.83      0.83      2186\n  weighted avg       0.88      0.88      0.87      2186\n\n"
    }
   ],
   "source": [
    "from sklearn.metrics import classification_report\n",
    "print(classification_report(y_test, predictions,\n",
    "                            target_names=[\"candidate\", \"confirmed\", 'false positive']))"
   ]
  }
 ],
 "metadata": {
  "kernelspec": {
   "display_name": "Python 3",
   "language": "python",
   "name": "python3"
  },
  "language_info": {
   "codemirror_mode": {
    "name": "ipython",
    "version": 3
   },
   "file_extension": ".py",
   "mimetype": "text/x-python",
   "name": "python",
   "nbconvert_exporter": "python",
   "pygments_lexer": "ipython3",
   "version": "3.7.4-final"
  }
 },
 "nbformat": 4,
 "nbformat_minor": 2
}